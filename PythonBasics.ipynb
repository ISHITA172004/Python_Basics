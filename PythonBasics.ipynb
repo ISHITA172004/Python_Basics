{
  "nbformat": 4,
  "nbformat_minor": 0,
  "metadata": {
    "colab": {
      "provenance": []
    },
    "kernelspec": {
      "name": "python3",
      "display_name": "Python 3"
    },
    "language_info": {
      "name": "python"
    }
  },
  "cells": [
    {
      "cell_type": "code",
      "execution_count": null,
      "metadata": {
        "id": "pifQT1CUaTBQ"
      },
      "outputs": [],
      "source": []
    },
    {
      "cell_type": "markdown",
      "source": [
        "# Python Basics\n"
      ],
      "metadata": {
        "id": "7eNiWf2oaYiO"
      }
    },
    {
      "cell_type": "markdown",
      "source": [
        "\n",
        "1.What is Python, and why is it popular?\n",
        "- Python is a high level programming language that is easy to unserstand and write.\n",
        "It is popular because:-\n",
        "a.Python has simple and readable syntax, which is very much popular among developers and programmers.\n",
        "b.Python supports various programming paradigms such as procedural,object-oriented and functional programming.\n",
        "c.Python has large and active community of developers, an extensive standard library and third party packages for various domains.\n",
        "2. What is an interpreter in Python?\n",
        "- Interpreter executes the code line by line,translating it into machine language during runtime.\n",
        "3. What are pre-defined keywords in Python?\n",
        "- The predefined key words in python are:-\n",
        "If,else,while,for,def,class,import,try,except,return,True,False,None etc.\n",
        "4.Can keywords be used as variable names?\n",
        "- No, keywords ca never be used as variable names.\n",
        "5. What is mutability in Python?\n",
        "- In Python, object can be either changeable or unchangeable. When we modify the main object after it’s creation, then it is called mutability in python. We can modify list and dictionary.\n",
        "6. Why are lists mutable, but tuples are immutable?\n",
        "- Lists are mutable because they are designed for situations where we might need to change, grow or shrink the data.Python allows direct modification of the list’s memory(like updating elements,appending,deleting) to make it flexible.\n",
        "Tuples are immutable because they are meant to protect data from changes.We can access tuple fastly, it is safer and usable as keys in dictionaries.It is fiex and make the data safe.\n",
        "7. What is the difference between “==” and “is” operators in Python?\n",
        "- “==” checks if the values of two variables are equal even if they are stored at different memory location.\n",
        "“is” checks if two variables refer to the exact same object in memory(i.e both variable points the same location)\n",
        "e.g:-\n",
        "a=[1,2,3]\n",
        "b=[1,2,3]\n",
        "print(a==b) //True\n",
        "print(a is b) False\n",
        "8. What are logical operators in Python?\n",
        "- The logical operators in Python are:- and, or,not. and:-returns true when both conditions are true, or:-returns true when one of the condition is true. not:-reverse the result,returns True when condition is false.\n",
        "9. What is type casting in Python?\n",
        "- Typecasting is the process of converting one data type of one variable into another data type.\n",
        "10. What is the difference between implicit and explicit type casting?\n",
        "- Explicit type casting is when the data type of a variable is manually changed according to the needs of the user or developer.As an example, a=”1”\n",
        "\t       b=1\n",
        "here we want to get the sum of a and b.\n",
        "so the code will be\n",
        "print((int(a))+b) #2\n",
        "Here, we converted a (which was a string) into an integer using int(a) to add it to b.\n",
        "Implicit type casting happens when Python automatically converts one data type into another without user intervention. It usually converts from lower precedence to higher precedence data types (like int to float).As an example,\n",
        "a=9\n",
        "b=9.9\n",
        "print(a+b) #18.9\n",
        "Python automatically converted the integer a into a float before adding it to b, and the result is a float (18.9).\n",
        "11. What is the purpose of conditional statements in Python?\n",
        "- The purpose of conditional statements in Python is to allow the program to make decisions and execute certain blocks of code based on specific conditions.\n",
        "They help the program behave differently depending on different inputs or situations.\n",
        "12.How does the elif statement work?\n",
        "- In Python,elif stands for “else if”.\n",
        "When if statement is False, Python checks the elif condition.If elis condition is true, the corresponding block of code will execute.If both if and elif conditions are true, then else block will execute.\n",
        "13.What is the difference between for and while loops?\n",
        "- A for loop is used when you know exactly how many times you want to repeat a block of code.\n",
        "A while loop is used when you want to repeat a block of code until a certain condition becomes false, and you may not know beforehand how many times the loop will run.\n",
        "14.Describe a scenario where a while loop is more suitable than a for loop?\n",
        "- A while loop is more suitable when you don't know in advance how many times you need to repeat a task, but you want the loop to run until a specific condition is met. It is ideal for situations where the termination condition is not based on a fixed number of iterations but depends on dynamic data or a real-time check.\n",
        "age = -1  # Starting with an invalid value\n",
        "while age <= 0:\n",
        "    age = int(input(\"Please enter your age (greater than 0): \"))\n",
        "print(f\"Your age is: {age}\")\n",
        "\n"
      ],
      "metadata": {
        "id": "vja8PESkabMr"
      }
    },
    {
      "cell_type": "code",
      "source": [
        "#1.Write a Python program to print \"Hello, World!\n",
        "print(\"Helllo World\")"
      ],
      "metadata": {
        "id": "F_EpCChmaabk",
        "colab": {
          "base_uri": "https://localhost:8080/"
        },
        "outputId": "5b243f9c-55bf-4305-d3be-4f6e00bc1f80"
      },
      "execution_count": 1,
      "outputs": [
        {
          "output_type": "stream",
          "name": "stdout",
          "text": [
            "Helllo World\n"
          ]
        }
      ]
    },
    {
      "cell_type": "code",
      "source": [
        "#2.Write a Python program that displays your name and age\n",
        "name=input(\"Enter your name: \")\n",
        "age=int(input(\"Enter your age: \"))\n",
        "print(\"Name is: \",name)\n",
        "print(\"Age is: \",age)"
      ],
      "metadata": {
        "id": "5lPb159IbqXs"
      },
      "execution_count": null,
      "outputs": []
    },
    {
      "cell_type": "code",
      "source": [
        "#3.Write code to print all the pre-defined keywords in Python using the keyword library.\n",
        "import keyword\n",
        "print(\"Keywords are: \")\n",
        "print(keyword.kwlist)"
      ],
      "metadata": {
        "id": "ECG8PUE2b1rf"
      },
      "execution_count": null,
      "outputs": []
    },
    {
      "cell_type": "code",
      "source": [
        "#4.Write a program that checks if a given word is a Python keyword.\n",
        "import keyword\n",
        "key=input(\"Enter key word: \")\n",
        "if key in keyword.kwlist:\n",
        "    print(key,\"is a keyword\")\n"
      ],
      "metadata": {
        "id": "FS_ZeoCXb_NM"
      },
      "execution_count": null,
      "outputs": []
    },
    {
      "cell_type": "code",
      "source": [
        "#5.Create a list and tuple in Python, and demonstrate how attempting to change an element works differently\n",
        "#for each.\n",
        "my_list=[10,20,30,40,50]\n",
        "print(\"My list is: \",my_list)\n",
        "\n",
        "my_list[1]=100\n",
        "print(\"My list is: \",my_list)\n",
        "\n",
        "my_tuple=(10,20,30,40,50)\n",
        "print(\"My tuple is: \")\n",
        "\n",
        "try:\n",
        "    my_tuple[1]=100\n",
        "except TypeError as e:\n",
        "    print(\"Error\",e)\n",
        "\n",
        "\n"
      ],
      "metadata": {
        "id": "LNI8BHHBcKeK"
      },
      "execution_count": null,
      "outputs": []
    },
    {
      "cell_type": "code",
      "source": [
        "6. #Write a function to demonstrate the behavior of mutable and immutable arguments.\n",
        "def modify(a,b):\n",
        "    a=a+10\n",
        "    b.append(100)\n",
        "num=5\n",
        "my_list=[1,2,3]\n",
        "print(\"Before function call: \")\n",
        "print(\"num= \",num)\n",
        "print(\"my_list= \",my_list)\n",
        "\n",
        "modify(num,my_list)\n",
        "print(\"After function call: \")\n",
        "print(\"num= \",num)\n",
        "print(\"my_list= \",my_list)\n",
        "\n"
      ],
      "metadata": {
        "id": "G4Lo8_p_cTjV"
      },
      "execution_count": null,
      "outputs": []
    },
    {
      "cell_type": "code",
      "source": [
        "#7. Write a program that performs basic arithmetic operations on two user-input numbers\n",
        "a=int(input(\"Enter a: \"))\n",
        "b=int(input(\"Enter b: \"))\n",
        "print(a,\"+\",b,\"= \",a+b)\n",
        "print(a,\"-\",b,\"= \",a-b)\n",
        "print(a,\"*\",b,\"= \",a*b)\n",
        "print(a,\"/\",b,\"= \",a/b)\n",
        "print(a,\"%\",b,\"= \",a%b)"
      ],
      "metadata": {
        "id": "zR8hbcl8cZw9"
      },
      "execution_count": null,
      "outputs": []
    },
    {
      "cell_type": "code",
      "source": [
        "#8.Write a program to demonstrate the use of logical operators.\n",
        "a=int(input(\"Enter a: \"))\n",
        "b=int(input(\"Enter b: \"))\n",
        "if((a>b) and(a!=b)):\n",
        "    print(\"Hello\")\n",
        "if((a>b) or(a<b)):\n",
        "    print(\"Goodbye\")\n",
        "if(not(a>b)):\n",
        "    print(\"Nothing\")\n"
      ],
      "metadata": {
        "id": "yoW7LbNZcdbl"
      },
      "execution_count": null,
      "outputs": []
    },
    {
      "cell_type": "code",
      "source": [
        "#9.Write a Python program to convert user input from string to integer, float, and boolean types.\n",
        "a=input(\"Enter a: \")\n",
        "print(\"The type of a is: \",type(a))\n",
        "\n",
        "a=int(a)\n",
        "\n",
        "print(\"The type of a is: \",type(a))\n",
        "\n",
        "a=float(a)\n",
        "print(\"The type of a is: \",type(a))\n",
        "\n",
        "a=bool(a)\n",
        "print(\"The type of a is: \",type(a))"
      ],
      "metadata": {
        "id": "b5xqUTH5ciTN"
      },
      "execution_count": null,
      "outputs": []
    },
    {
      "cell_type": "code",
      "source": [
        "#10.Write code to demonstrate type casting with list elements\n",
        "# Original list with string elements\n",
        "str_list = [\"1\", \"2\", \"3\", \"4\", \"5\"]\n",
        "print(\"Original List (string elements):\", str_list)\n",
        "\n",
        "# Converting each element to an integer\n",
        "int_list = [int(i) for i in str_list]\n",
        "print(\"List after type casting to integers:\", int_list)\n",
        "\n",
        "# Converting each element to a float\n",
        "float_list = [float(i) for i in str_list]\n",
        "print(\"List after type casting to floats:\", float_list)\n",
        "\n",
        "# Converting each element to boolean\n",
        "bool_list = [bool(int(i)) for i in str_list]\n",
        "print(\"List after type casting to boolean:\", bool_list)\n"
      ],
      "metadata": {
        "id": "ZiMyfzUocnN_"
      },
      "execution_count": null,
      "outputs": []
    },
    {
      "cell_type": "code",
      "source": [
        "#11.Write a program that checks if a number is positive, negative, or zero.\n",
        "n=int(input(\"Enter n: \"))\n",
        "if(n>0):\n",
        "    print(n,\"is positive number.\")\n",
        "elif(n<0):\n",
        "    print(n,\"is negative number.\")\n",
        "else:\n",
        "    print(n,\"is zero.\")"
      ],
      "metadata": {
        "id": "hqAQEyikcsKQ"
      },
      "execution_count": null,
      "outputs": []
    },
    {
      "cell_type": "code",
      "source": [
        "#12.Write a for loop to print numbers from 1 to 10\n",
        "for i in range(1,11):\n",
        "    print(i,end=\" \")"
      ],
      "metadata": {
        "id": "AU4y1TW1cuuS"
      },
      "execution_count": null,
      "outputs": []
    },
    {
      "cell_type": "code",
      "source": [
        "#13. Write a Python program to find the sum of all even numbers between 1 and 50.\n",
        "sum=0\n",
        "for i in range(2,51,2):\n",
        "    sum+=i\n",
        "print(\"Sum is: \",sum)"
      ],
      "metadata": {
        "id": "qFcwlOBjcy1n"
      },
      "execution_count": null,
      "outputs": []
    },
    {
      "cell_type": "code",
      "source": [
        "#14.Write a program to reverse a string using a while loop.\n",
        "name=input(\"Enter a string: \")\n",
        "reversed=\"\"\n",
        "index=len(name)-1\n",
        "while(index>=0):\n",
        "    reversed+=name[index]\n",
        "    index-=1\n",
        "\n",
        "print(\"Reversed string is: \",reversed)\n"
      ],
      "metadata": {
        "id": "7OnfHI8NdKR2"
      },
      "execution_count": null,
      "outputs": []
    },
    {
      "cell_type": "code",
      "source": [
        "#15.Write a Python program to calculate the factorial of a number provided by the user using a while loop.\n",
        "a=int(input(\"Enter a: \"))\n",
        "fact=1\n",
        "i=1\n",
        "while(i<=a):\n",
        "    fact=fact*i\n",
        "    i+=1\n",
        "print(\"The factorial of\",a,\"is:\",fact)"
      ],
      "metadata": {
        "id": "5hgOSFz7dOoH"
      },
      "execution_count": null,
      "outputs": []
    }
  ]
}